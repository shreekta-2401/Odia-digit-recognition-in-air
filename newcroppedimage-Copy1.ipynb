{
 "cells": [
  {
   "cell_type": "code",
   "execution_count": 6,
   "id": "bd188c53-d6ba-46e9-9219-5029783aa668",
   "metadata": {},
   "outputs": [],
   "source": [
    "import tensorflow as tf\n",
    "from tensorflow.keras.preprocessing.image import ImageDataGenerator\n",
    "\n",
    "# Define paths to your dataset\n",
    "train_data_dir = 'datasets2/train'\n",
    "test_data_dir = 'datasets2/test'\n",
    "\n",
    "\n"
   ]
  },
  {
   "cell_type": "code",
   "execution_count": 7,
   "id": "f66bc37f-7210-4718-ac92-c23e8bc2cc92",
   "metadata": {},
   "outputs": [
    {
     "name": "stdout",
     "output_type": "stream",
     "text": [
      "Found 864 images belonging to 10 classes.\n",
      "Found 229 images belonging to 10 classes.\n",
      "X_train shape: (864, 150, 150, 3)\n",
      "y_train shape: (864, 10)\n",
      "X_test shape: (229, 150, 150, 3)\n",
      "y_test shape: (229, 10)\n"
     ]
    }
   ],
   "source": [
    "import tensorflow as tf\n",
    "from tensorflow.keras.preprocessing.image import ImageDataGenerator\n",
    "from tensorflow.keras.models import Sequential\n",
    "from tensorflow.keras.layers import Conv2D, MaxPooling2D, Flatten, Dense, Dropout\n",
    "import numpy as np\n",
    "\n",
    "# Define image dimensions\n",
    "img_width, img_height = 150,150\n",
    "\n",
    "# Create the ImageDataGenerator for grayscale images\n",
    "train_datagen = ImageDataGenerator(rescale=1./255)\n",
    "test_datagen = ImageDataGenerator(rescale=1./255)\n",
    "\n",
    "# Flow from directory for training and testing data\n",
    "train_generator = train_datagen.flow_from_directory(\n",
    "    train_data_dir,\n",
    "    target_size=(img_width, img_height),\n",
    "    batch_size=32,\n",
    "    class_mode='categorical'\n",
    ")\n",
    "\n",
    "validation_generator = test_datagen.flow_from_directory(\n",
    "    test_data_dir,\n",
    "    target_size=(img_width, img_height),\n",
    "    batch_size=32,\n",
    "    class_mode='categorical'\n",
    ")\n",
    "# Extract data from the generators\n",
    "def extract_data(generator):\n",
    "    X, y = [], []\n",
    "    for _ in range(len(generator)):\n",
    "        images, labels = next(generator)\n",
    "        X.extend(images)\n",
    "        y.extend(labels)\n",
    "    return np.array(X), np.array(y)\n",
    "\n",
    "# Convert training and validation data to numpy arrays\n",
    "X_train, y_train = extract_data(train_generator)\n",
    "X_test, y_test = extract_data(validation_generator)\n",
    "# Verify the shapes of the extracted data\n",
    "print(f'X_train shape: {X_train.shape}')\n",
    "print(f'y_train shape: {y_train.shape}')\n",
    "print(f'X_test shape: {X_test.shape}')\n",
    "print(f'y_test shape: {y_test.shape}')\n",
    "\n"
   ]
  },
  {
   "cell_type": "code",
   "execution_count": 8,
   "id": "8ab2463f-565d-468b-99d5-fe9ea691c19e",
   "metadata": {},
   "outputs": [
    {
     "name": "stdout",
     "output_type": "stream",
     "text": [
      "Found 864 images belonging to 10 classes.\n",
      "Found 229 images belonging to 10 classes.\n",
      "Epoch 1/4\n"
     ]
    },
    {
     "name": "stderr",
     "output_type": "stream",
     "text": [
      "/Users/shreekta/anaconda3/lib/python3.11/site-packages/keras/src/trainers/data_adapters/py_dataset_adapter.py:121: UserWarning: Your `PyDataset` class should call `super().__init__(**kwargs)` in its constructor. `**kwargs` can include `workers`, `use_multiprocessing`, `max_queue_size`. Do not pass these arguments to `fit()`, as they will be ignored.\n",
      "  self._warn_if_super_not_called()\n"
     ]
    },
    {
     "name": "stdout",
     "output_type": "stream",
     "text": [
      "\u001b[1m27/27\u001b[0m \u001b[32m━━━━━━━━━━━━━━━━━━━━\u001b[0m\u001b[37m\u001b[0m \u001b[1m54s\u001b[0m 2s/step - accuracy: 0.2359 - loss: 2.1830 - precision: 0.8214 - recall: 0.0216 - val_accuracy: 0.7902 - val_loss: 1.2991 - val_precision: 1.0000 - val_recall: 0.1116\n",
      "Epoch 2/4\n"
     ]
    },
    {
     "name": "stderr",
     "output_type": "stream",
     "text": [
      "2024-07-04 11:30:33.534143: W tensorflow/core/framework/local_rendezvous.cc:404] Local rendezvous is aborting with status: OUT_OF_RANGE: End of sequence\n",
      "\t [[{{node IteratorGetNext}}]]\n",
      "/Users/shreekta/anaconda3/lib/python3.11/contextlib.py:155: UserWarning: Your input ran out of data; interrupting training. Make sure that your dataset or generator can generate at least `steps_per_epoch * epochs` batches. You may need to use the `.repeat()` function when building your dataset.\n",
      "  self.gen.throw(typ, value, traceback)\n"
     ]
    },
    {
     "name": "stdout",
     "output_type": "stream",
     "text": [
      "\u001b[1m27/27\u001b[0m \u001b[32m━━━━━━━━━━━━━━━━━━━━\u001b[0m\u001b[37m\u001b[0m \u001b[1m0s\u001b[0m 12ms/step - accuracy: 0.0000e+00 - loss: 0.0000e+00 - precision: 0.0000e+00 - recall: 0.0000e+00 - val_accuracy: 0.8000 - val_loss: 1.3763 - val_precision: 1.0000 - val_recall: 0.2000\n",
      "Epoch 3/4\n"
     ]
    },
    {
     "name": "stderr",
     "output_type": "stream",
     "text": [
      "2024-07-04 11:30:33.809555: W tensorflow/core/framework/local_rendezvous.cc:404] Local rendezvous is aborting with status: OUT_OF_RANGE: End of sequence\n",
      "\t [[{{node IteratorGetNext}}]]\n"
     ]
    },
    {
     "name": "stdout",
     "output_type": "stream",
     "text": [
      "\u001b[1m27/27\u001b[0m \u001b[32m━━━━━━━━━━━━━━━━━━━━\u001b[0m\u001b[37m\u001b[0m \u001b[1m57s\u001b[0m 2s/step - accuracy: 0.7170 - loss: 1.2837 - precision: 0.9724 - recall: 0.1687 - val_accuracy: 0.9911 - val_loss: 0.6864 - val_precision: 1.0000 - val_recall: 0.4821\n",
      "Epoch 4/4\n"
     ]
    },
    {
     "name": "stderr",
     "output_type": "stream",
     "text": [
      "2024-07-04 11:31:30.927195: W tensorflow/core/framework/local_rendezvous.cc:404] Local rendezvous is aborting with status: OUT_OF_RANGE: End of sequence\n",
      "\t [[{{node IteratorGetNext}}]]\n"
     ]
    },
    {
     "name": "stdout",
     "output_type": "stream",
     "text": [
      "\u001b[1m27/27\u001b[0m \u001b[32m━━━━━━━━━━━━━━━━━━━━\u001b[0m\u001b[37m\u001b[0m \u001b[1m0s\u001b[0m 12ms/step - accuracy: 0.0000e+00 - loss: 0.0000e+00 - precision: 0.0000e+00 - recall: 0.0000e+00 - val_accuracy: 1.0000 - val_loss: 0.9076 - val_precision: 1.0000 - val_recall: 0.2000\n"
     ]
    },
    {
     "name": "stderr",
     "output_type": "stream",
     "text": [
      "2024-07-04 11:31:31.202164: W tensorflow/core/framework/local_rendezvous.cc:404] Local rendezvous is aborting with status: OUT_OF_RANGE: End of sequence\n",
      "\t [[{{node IteratorGetNext}}]]\n"
     ]
    },
    {
     "name": "stdout",
     "output_type": "stream",
     "text": [
      "Epoch 1/4\n",
      "\u001b[1m27/27\u001b[0m \u001b[32m━━━━━━━━━━━━━━━━━━━━\u001b[0m\u001b[37m\u001b[0m \u001b[1m71s\u001b[0m 3s/step - accuracy: 0.9226 - loss: 0.5711 - precision_1: 0.9959 - recall_1: 0.6406 - val_accuracy: 1.0000 - val_loss: 0.1645 - val_precision_1: 1.0000 - val_recall_1: 1.0000\n",
      "Epoch 2/4\n"
     ]
    },
    {
     "name": "stderr",
     "output_type": "stream",
     "text": [
      "2024-07-04 11:32:42.388631: W tensorflow/core/framework/local_rendezvous.cc:404] Local rendezvous is aborting with status: OUT_OF_RANGE: End of sequence\n",
      "\t [[{{node IteratorGetNext}}]]\n"
     ]
    },
    {
     "name": "stdout",
     "output_type": "stream",
     "text": [
      "\u001b[1m27/27\u001b[0m \u001b[32m━━━━━━━━━━━━━━━━━━━━\u001b[0m\u001b[37m\u001b[0m \u001b[1m0s\u001b[0m 14ms/step - accuracy: 0.0000e+00 - loss: 0.0000e+00 - precision_1: 0.0000e+00 - recall_1: 0.0000e+00 - val_accuracy: 1.0000 - val_loss: 0.2596 - val_precision_1: 1.0000 - val_recall_1: 1.0000\n",
      "Epoch 3/4\n"
     ]
    },
    {
     "name": "stderr",
     "output_type": "stream",
     "text": [
      "2024-07-04 11:32:42.713210: W tensorflow/core/framework/local_rendezvous.cc:404] Local rendezvous is aborting with status: OUT_OF_RANGE: End of sequence\n",
      "\t [[{{node IteratorGetNext}}]]\n"
     ]
    },
    {
     "name": "stdout",
     "output_type": "stream",
     "text": [
      "\u001b[1m27/27\u001b[0m \u001b[32m━━━━━━━━━━━━━━━━━━━━\u001b[0m\u001b[37m\u001b[0m \u001b[1m70s\u001b[0m 3s/step - accuracy: 0.9823 - loss: 0.1897 - precision_1: 0.9908 - recall_1: 0.9589 - val_accuracy: 1.0000 - val_loss: 0.0603 - val_precision_1: 1.0000 - val_recall_1: 1.0000\n",
      "Epoch 4/4\n"
     ]
    },
    {
     "name": "stderr",
     "output_type": "stream",
     "text": [
      "2024-07-04 11:33:52.812718: W tensorflow/core/framework/local_rendezvous.cc:404] Local rendezvous is aborting with status: OUT_OF_RANGE: End of sequence\n",
      "\t [[{{node IteratorGetNext}}]]\n"
     ]
    },
    {
     "name": "stdout",
     "output_type": "stream",
     "text": [
      "\u001b[1m27/27\u001b[0m \u001b[32m━━━━━━━━━━━━━━━━━━━━\u001b[0m\u001b[37m\u001b[0m \u001b[1m0s\u001b[0m 12ms/step - accuracy: 0.0000e+00 - loss: 0.0000e+00 - precision_1: 0.0000e+00 - recall_1: 0.0000e+00 - val_accuracy: 1.0000 - val_loss: 0.0566 - val_precision_1: 1.0000 - val_recall_1: 1.0000\n"
     ]
    },
    {
     "name": "stderr",
     "output_type": "stream",
     "text": [
      "2024-07-04 11:33:53.106502: W tensorflow/core/framework/local_rendezvous.cc:404] Local rendezvous is aborting with status: OUT_OF_RANGE: End of sequence\n",
      "\t [[{{node IteratorGetNext}}]]\n",
      "WARNING:absl:You are saving your model as an HDF5 file via `model.save()` or `keras.saving.save_model(model)`. This file format is considered legacy. We recommend using instead the native Keras format, e.g. `model.save('my_model.keras')` or `keras.saving.save_model(model, 'my_model.keras')`. \n"
     ]
    }
   ],
   "source": [
    "import tensorflow as tf\n",
    "from tensorflow.keras.models import Sequential\n",
    "from tensorflow.keras.layers import Conv2D, MaxPooling2D, Flatten, Dense, Dropout\n",
    "from tensorflow.keras.preprocessing.image import ImageDataGenerator\n",
    "from tensorflow.keras.applications import VGG16\n",
    "from tensorflow.keras.layers import GlobalAveragePooling2D\n",
    "\n",
    "# Define the image dimensions\n",
    "img_width, img_height = 150, 150\n",
    "\n",
    "# Paths to your dataset directories\n",
    "train_data_dir = 'datasets2/train'\n",
    "test_data_dir = 'datasets2/test'\n",
    "\n",
    "# Image data generators for training and testing sets\n",
    "train_datagen = ImageDataGenerator(rescale=1.0/255.0)\n",
    "test_datagen = ImageDataGenerator(rescale=1.0/255.0)\n",
    "\n",
    "# Training and testing data generators\n",
    "train_generator = train_datagen.flow_from_directory(\n",
    "    train_data_dir,\n",
    "    target_size=(img_width, img_height),\n",
    "    batch_size=32,\n",
    "    class_mode='categorical'\n",
    ")\n",
    "\n",
    "test_generator = test_datagen.flow_from_directory(\n",
    "    test_data_dir,\n",
    "    target_size=(img_width, img_height),\n",
    "    batch_size=32,\n",
    "    class_mode='categorical'\n",
    ")\n",
    "\n",
    "# Load the VGG16 model pre-trained on ImageNet, without the top layers\n",
    "base_model = VGG16(weights='imagenet', include_top=False, input_shape=(img_width, img_height, 3))\n",
    "\n",
    "# Freeze the base model layers\n",
    "base_model.trainable = False\n",
    "\n",
    "# Define the custom top layers\n",
    "model = Sequential()\n",
    "model.add(base_model)\n",
    "model.add(GlobalAveragePooling2D())\n",
    "model.add(Dense(512, activation='relu'))\n",
    "model.add(Dropout(0.5))\n",
    "model.add(Dense(train_generator.num_classes, activation='softmax'))\n",
    "\n",
    "# Compile the model\n",
    "model.compile(optimizer='adam', \n",
    "              loss='categorical_crossentropy', \n",
    "              metrics=['accuracy', tf.keras.metrics.Precision(), tf.keras.metrics.Recall()])\n",
    "\n",
    "# Train the model\n",
    "model.fit(\n",
    "    train_generator,\n",
    "    steps_per_epoch=train_generator.samples // train_generator.batch_size,\n",
    "    validation_data=test_generator,\n",
    "    validation_steps=test_generator.samples // test_generator.batch_size,\n",
    "    epochs=4\n",
    ")\n",
    "\n",
    "# Optionally, unfreeze some layers of the base model and fine-tune the model\n",
    "base_model.trainable = True\n",
    "fine_tune_at = 15  # Layer from which we want to fine-tune\n",
    "\n",
    "# Freeze all layers before the fine-tune layer\n",
    "for layer in base_model.layers[:fine_tune_at]:\n",
    "    layer.trainable = False\n",
    "\n",
    "# Re-compile the model with a lower learning rate for fine-tuning\n",
    "model.compile(optimizer=tf.keras.optimizers.Adam(learning_rate=1e-5), \n",
    "              loss='categorical_crossentropy', \n",
    "              metrics=['accuracy', tf.keras.metrics.Precision(), tf.keras.metrics.Recall()])\n",
    "\n",
    "# Fine-tune the model\n",
    "model.fit(\n",
    "    train_generator,\n",
    "    steps_per_epoch=train_generator.samples // train_generator.batch_size,\n",
    "    validation_data=test_generator,\n",
    "    validation_steps=test_generator.samples // test_generator.batch_size,\n",
    "    epochs=4  # You can increase the number of epochs for fine-tuning\n",
    ")\n",
    "\n",
    "# Save the model\n",
    "model.save(\"fine_tuned_odia_digit_recognition_model.h5\")\n"
   ]
  },
  {
   "cell_type": "code",
   "execution_count": 28,
   "id": "8de76937-0095-4ba3-8a11-c4d12534e6d9",
   "metadata": {},
   "outputs": [],
   "source": [
    "model.save('')\n"
   ]
  },
  {
   "cell_type": "code",
   "execution_count": 19,
   "id": "cb0a22e3-fc81-42a0-8cd7-46dd995819c3",
   "metadata": {},
   "outputs": [
    {
     "name": "stderr",
     "output_type": "stream",
     "text": [
      "WARNING:absl:Compiled the loaded model, but the compiled metrics have yet to be built. `model.compile_metrics` will be empty until you train or evaluate the model.\n"
     ]
    }
   ],
   "source": [
    "from tensorflow.keras.models import load_model\n",
    "\n",
    "model=load_model(\"fine_tuned_odia_digit_recognition_model.h5\")"
   ]
  },
  {
   "cell_type": "code",
   "execution_count": 20,
   "id": "2971ca4b-0872-45e4-95db-8e03aadbd4e1",
   "metadata": {},
   "outputs": [
    {
     "name": "stderr",
     "output_type": "stream",
     "text": [
      "WARNING:absl:Compiled the loaded model, but the compiled metrics have yet to be built. `model.compile_metrics` will be empty until you train or evaluate the model.\n"
     ]
    },
    {
     "name": "stdout",
     "output_type": "stream",
     "text": [
      "Processing image: output/frame_1.png\n",
      "Original image shape: (720, 1280)\n",
      "Cropped image shape: (21, 21)\n",
      "Resized image shape: (150, 150)\n"
     ]
    },
    {
     "data": {
      "image/png": "[encoded data removed]",
      "text/plain": [
       "<Figure size 640x480 with 1 Axes>"
      ]
     },
     "metadata": {},
     "output_type": "display_data"
    },
    {
     "name": "stdout",
     "output_type": "stream",
     "text": [
      "Image shape after adding batch dimension: (1, 150, 150, 3)\n",
      "\u001b[1m1/1\u001b[0m \u001b[32m━━━━━━━━━━━━━━━━━━━━\u001b[0m\u001b[37m\u001b[0m \u001b[1m0s\u001b[0m 243ms/step\n",
      "Prediction: [[0.00135699 0.00896808 0.00561107 0.14391014 0.00181552 0.0060096\n",
      "  0.00084232 0.00128921 0.78031623 0.04988085]]\n",
      "Predicted class index: [8]\n",
      "Class labels: ['୦', '୧', '୨', '୩', '୪', '୫', '୬', '୭', '୮', '୯']\n",
      "Predicted label: ୮\n",
      "Odia digit:\n",
      "The predicted class is: ୮\n"
     ]
    }
   ],
   "source": [
    "import cv2\n",
    "import numpy as np\n",
    "from matplotlib import pyplot as plt\n",
    "from tensorflow.keras.preprocessing import image\n",
    "from tensorflow.keras.models import load_model\n",
    "from PIL import Image, ImageDraw, ImageFont\n",
    "import blur_erase2\n",
    "\n",
    "# Preprocess and predict function\n",
    "def preprocess_and_predict_image(model, img_path, target_size):\n",
    "    print(f\"Processing image: {img_path}\")\n",
    "\n",
    "    # Read the image using OpenCV in grayscale mode\n",
    "    test_image = cv2.imread(img_path, cv2.IMREAD_GRAYSCALE)\n",
    "    print(f\"Original image shape: {test_image.shape}\")\n",
    "\n",
    "    # Find the bounding box of the white part\n",
    "    coords = cv2.findNonZero(test_image)  # Find all non-zero points (white)\n",
    "    x, y, w, h = cv2.boundingRect(coords)  # Find the bounding box of the non-zero points\n",
    "    cropped_image = test_image[y:y+h, x:x+w]  # Crop the image to the bounding box\n",
    "    print(f\"Cropped image shape: {cropped_image.shape}\")\n",
    "\n",
    "    # Resize the cropped image to the target size\n",
    "    img_resized = cv2.resize(cropped_image, target_size, interpolation=cv2.INTER_AREA)\n",
    "    print(f\"Resized image shape: {img_resized.shape}\")\n",
    "    \n",
    "    # Convert the grayscale image to RGB by duplicating the single channel\n",
    "    img_rgb = cv2.cvtColor(img_resized, cv2.COLOR_GRAY2RGB)\n",
    "    \n",
    "    # Display the preprocessed image (optional)\n",
    "    plt.imshow(img_rgb, cmap='gray')\n",
    "    plt.show()\n",
    "    \n",
    "    # Normalize the image\n",
    "    img_rgb = img_rgb / 255.0\n",
    "    \n",
    "    # Add the batch dimension\n",
    "    img_rgb = np.expand_dims(img_rgb, axis=0)\n",
    "    print(f\"Image shape after adding batch dimension: {img_rgb.shape}\")\n",
    "    \n",
    "    # Predict the class\n",
    "    prediction = model.predict(img_rgb)\n",
    "    print(f\"Prediction: {prediction}\")\n",
    "    predicted_class = np.argmax(prediction, axis=1)\n",
    "    print(f\"Predicted class index: {predicted_class}\")\n",
    "    \n",
    "    return predicted_class\n",
    "\n",
    "# Define the target size (should be the same as the input size of the model)\n",
    "img_width, img_height = 150, 150 # Update these values as needed\n",
    "target_size = (img_width, img_height)\n",
    "\n",
    "# Path to the user-provided image\n",
    "img_path = \"output/frame_99.png\"\n",
    "\n",
    "# Load the trained model (if not already loaded)\n",
    "model = load_model(\"fine_tuned_odia_digit_recognition_model.h5\")  # Update the path to your model\n",
    "\n",
    "# Predict the class\n",
    "predicted_class = preprocess_and_predict_image(model, img_path, target_size)\n",
    "\n",
    "# Assuming train_generator is already defined and trained\n",
    "# Map the predicted class index to the actual class label\n",
    "class_labels = list(train_generator.class_indices.keys())\n",
    "print(f\"Class labels: {class_labels}\")\n",
    "\n",
    "predicted_label = class_labels[predicted_class[0]]\n",
    "print(f\"Predicted label: {predicted_label}\")\n",
    "\n",
    "# Display the predicted label in Odia digit using Anek Odia font\n",
    "odia_digit = chr(int(predicted_label))\n",
    "print(f\"Odia digit: {odia_digit}\")\n",
    "\n",
    "# Load the Anek Odia font (update the path to the font file)\n",
    "font_path = \"Anek_Odia/AnekOdia-VariableFont_wdth,wght.ttf\"\n",
    "font_size = 100  # Adjust the font size as needed\n",
    "font = ImageFont.truetype(font_path, font_size)\n",
    "\n",
    "# Create an image with the Odia digit\n",
    "img = Image.new('RGB', (200, 200), color='white')\n",
    "draw = ImageDraw.Draw(img)\n",
    "draw.text((50, 50), odia_digit, font=font, fill='black')\n",
    "\n",
    "# Display the image with the Odia digit\n",
    "img.show()\n",
    "\n",
    "print(f\"The predicted class is: {predicted_label}\")"
   ]
  },
  {
   "cell_type": "code",
   "execution_count": 11,
   "id": "9d39ed58-d617-4911-8381-7a248f44859c",
   "metadata": {},
   "outputs": [
    {
     "name": "stdout",
     "output_type": "stream",
     "text": [
      "\u001b[1m1/1\u001b[0m \u001b[32m━━━━━━━━━━━━━━━━━━━━\u001b[0m\u001b[37m\u001b[0m \u001b[1m0s\u001b[0m 326ms/step\n",
      "\u001b[1m1/1\u001b[0m \u001b[32m━━━━━━━━━━━━━━━━━━━━\u001b[0m\u001b[37m\u001b[0m \u001b[1m0s\u001b[0m 213ms/step\n",
      "\u001b[1m1/1\u001b[0m \u001b[32m━━━━━━━━━━━━━━━━━━━━\u001b[0m\u001b[37m\u001b[0m \u001b[1m0s\u001b[0m 198ms/step\n",
      "\u001b[1m1/1\u001b[0m \u001b[32m━━━━━━━━━━━━━━━━━━━━\u001b[0m\u001b[37m\u001b[0m \u001b[1m0s\u001b[0m 143ms/step\n",
      "\u001b[1m1/1\u001b[0m \u001b[32m━━━━━━━━━━━━━━━━━━━━\u001b[0m\u001b[37m\u001b[0m \u001b[1m0s\u001b[0m 151ms/step\n",
      "\u001b[1m1/1\u001b[0m \u001b[32m━━━━━━━━━━━━━━━━━━━━\u001b[0m\u001b[37m\u001b[0m \u001b[1m0s\u001b[0m 153ms/step\n",
      "\u001b[1m1/1\u001b[0m \u001b[32m━━━━━━━━━━━━━━━━━━━━\u001b[0m\u001b[37m\u001b[0m \u001b[1m0s\u001b[0m 126ms/step\n",
      "\u001b[1m1/1\u001b[0m \u001b[32m━━━━━━━━━━━━━━━━━━━━\u001b[0m\u001b[37m\u001b[0m \u001b[1m0s\u001b[0m 126ms/step\n",
      "\u001b[1m1/1\u001b[0m \u001b[32m━━━━━━━━━━━━━━━━━━━━\u001b[0m\u001b[37m\u001b[0m \u001b[1m0s\u001b[0m 156ms/step\n",
      "\u001b[1m1/1\u001b[0m \u001b[32m━━━━━━━━━━━━━━━━━━━━\u001b[0m\u001b[37m\u001b[0m \u001b[1m0s\u001b[0m 158ms/step\n",
      "\u001b[1m1/1\u001b[0m \u001b[32m━━━━━━━━━━━━━━━━━━━━\u001b[0m\u001b[37m\u001b[0m \u001b[1m0s\u001b[0m 126ms/step\n",
      "\u001b[1m1/1\u001b[0m \u001b[32m━━━━━━━━━━━━━━━━━━━━\u001b[0m\u001b[37m\u001b[0m \u001b[1m0s\u001b[0m 161ms/step\n",
      "Confusion Matrix:\n",
      "[[45  0  0  0  0  0  0  0  0  0]\n",
      " [ 0 43  0  0  0  0  0  0  0  0]\n",
      " [ 0  0 34  0  0  0  0  0  0  0]\n",
      " [ 0  0  0 40  0  0  0  0  0  0]\n",
      " [ 0  0  0  0 36  0  0  0  0  0]\n",
      " [ 0  0  0  0  0 39  0  0  0  0]\n",
      " [ 0  0  0  0  0  0 27  0  0  0]\n",
      " [ 0  0  0  0  0  0  0 49  0  0]\n",
      " [ 0  0  0  0  0  0  0  0 34  0]\n",
      " [ 0  0  0  0  0  0  0  0  0 35]]\n"
     ]
    },
    {
     "data": {
      "image/png": "[encoded data removed]",
      "text/plain": [
       "<Figure size 1000x800 with 2 Axes>"
      ]
     },
     "metadata": {},
     "output_type": "display_data"
    }
   ],
   "source": [
    "from sklearn.metrics import confusion_matrix\n",
    "import seaborn as sns\n",
    "# Collect true labels and predicted labels for test images\n",
    "true_labels = []\n",
    "predicted_labels = []\n",
    "\n",
    "# Assuming test_generator is already defined and provides batches of test images\n",
    "for i in range(len(validation_generator)):\n",
    "    x_batch, y_batch = validation_generator[i]\n",
    "    y_true = np.argmax(y_batch, axis=1)\n",
    "    y_pred = np.argmax(model.predict(x_batch), axis=1)\n",
    "    true_labels.extend(y_true)\n",
    "    predicted_labels.extend(y_pred)\n",
    "\n",
    "# Generate the confusion matrix\n",
    "conf_matrix = confusion_matrix(true_labels, predicted_labels)\n",
    "\n",
    "# Display the confusion matrix\n",
    "print(\"Confusion Matrix:\")\n",
    "print(conf_matrix)\n",
    "\n",
    "# Visualize the confusion matrix\n",
    "plt.figure(figsize=(10, 8))\n",
    "sns.heatmap(conf_matrix, annot=True, fmt='d', cmap='Blues', xticklabels=class_labels, yticklabels=class_labels)\n",
    "plt.xlabel('Predicted Label')\n",
    "plt.ylabel('True Label')\n",
    "plt.title('Confusion Matrix')\n",
    "plt.show()"
   ]
  },
  {
   "cell_type": "code",
   "execution_count": 12,
   "id": "bb4edebb-4baf-4fd2-8e9f-9d80622b6e96",
   "metadata": {},
   "outputs": [],
   "source": [
    "import pickle\n",
    "\n",
    "# Specify the filename\n",
    "filename = 'digit.pkl'\n",
    "\n",
    "# Open a file in binary mode and write the model to it\n",
    "with open(filename, 'wb') as file:\n",
    "    pickle.dump(model,file)"
   ]
  },
  {
   "cell_type": "code",
   "execution_count": null,
   "id": "42093c11-e8f3-4535-aa2f-bfbbafbdb764",
   "metadata": {},
   "outputs": [],
   "source": []
  }
 ],
 "metadata": {
  "kernelspec": {
   "display_name": "Python 3 (ipykernel)",
   "language": "python",
   "name": "python3"
  },
  "language_info": {
   "codemirror_mode": {
    "name": "ipython",
    "version": 3
   },
   "file_extension": ".py",
   "mimetype": "text/x-python",
   "name": "python",
   "nbconvert_exporter": "python",
   "pygments_lexer": "ipython3",
   "version": "3.11.5"
  }
 },
 "nbformat": 4,
 "nbformat_minor": 5
}
